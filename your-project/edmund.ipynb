{
 "cells": [
  {
   "cell_type": "code",
   "execution_count": null,
   "metadata": {},
   "outputs": [],
   "source": [
    "import speech_recognition as sr\n",
    "import os\n",
    "import sys\n",
    "import re\n",
    "import webbrowser\n",
    "import smtplib\n",
    "import requests\n",
    "import subprocess\n",
    "from pyowm import OWM\n",
    "import youtube_dl\n",
    "import urllib\n",
    "import json\n",
    "from bs4 import BeautifulSoup as soup\n",
    "import wikipedia\n",
    "import random\n",
    "from time import strftime"
   ]
  },
  {
   "cell_type": "code",
   "execution_count": null,
   "metadata": {},
   "outputs": [],
   "source": [
    "def sofiaResponse(audio):\n",
    "    \"speaks audio passed as argument\"\n",
    "    print(audio)\n",
    "    for line in audio.splitlines():\n",
    "        os.system(\"say \" + audio)\n",
    "        \n",
    "def myCommand():\n",
    "    \"listens for commands\"\n",
    "    r = sr.Recognizer()\n",
    "    with sr.Microphone() as source:\n",
    "        print('Say something...')\n",
    "        r.pause_threshold = 1\n",
    "        r.adjust_for_ambient_noise(source, duration=1)\n",
    "        audio = r.listen(source)\n",
    "    try:\n",
    "        command = r.recognize_google(audio).lower()\n",
    "        print('You said: ' + command + '\\n')\n",
    "    #loop back to continue to listen for commands if unrecognizable speech is received\n",
    "    except sr.UnknownValueError:\n",
    "        print('....')\n",
    "        command = myCommand();\n",
    "    return command \n",
    "\n",
    "def assistant(command):\n",
    "    \"if statements for executing commands\"\n"
   ]
  },
  {
   "cell_type": "code",
   "execution_count": null,
   "metadata": {},
   "outputs": [],
   "source": [
    "#open subreddit Reddit\n",
    "command = myCommand()\n",
    "if 'open reddit' in command:\n",
    "    reg_ex = re.search('open reddit (.*)', command)\n",
    "    url = 'https://www.reddit.com/'\n",
    "    if reg_ex:\n",
    "        subreddit = reg_ex.group(1)\n",
    "        url = url + 'r/' + subreddit\n",
    "    webbrowser.open(url)\n",
    "    sofiaResponse('The Reddit content has been opened for you ')\n",
    "while True:\n",
    "    assistant(myCommand())"
   ]
  },
  {
   "cell_type": "code",
   "execution_count": null,
   "metadata": {},
   "outputs": [],
   "source": []
  }
 ],
 "metadata": {
  "kernelspec": {
   "display_name": "Python 3",
   "language": "python",
   "name": "python3"
  },
  "language_info": {
   "codemirror_mode": {
    "name": "ipython",
    "version": 3
   },
   "file_extension": ".py",
   "mimetype": "text/x-python",
   "name": "python",
   "nbconvert_exporter": "python",
   "pygments_lexer": "ipython3",
   "version": "3.7.4"
  }
 },
 "nbformat": 4,
 "nbformat_minor": 2
}
