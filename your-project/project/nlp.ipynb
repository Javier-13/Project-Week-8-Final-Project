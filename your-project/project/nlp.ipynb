{
 "cells": [
  {
   "cell_type": "markdown",
   "metadata": {},
   "source": [
    "# NATURAL LANGUAGE PROCESSING"
   ]
  },
  {
   "cell_type": "markdown",
   "metadata": {},
   "source": [
    "### Importing libraries"
   ]
  },
  {
   "cell_type": "code",
   "execution_count": 1,
   "metadata": {},
   "outputs": [],
   "source": [
    "import numpy as np\n",
    "import pandas as pd\n",
    "import string\n",
    "import re\n",
    "import sklearn\n",
    "from sklearn.feature_extraction.text import TfidfVectorizer\n",
    "from sklearn.linear_model import LogisticRegression\n",
    "from sklearn.metrics import accuracy_score\n",
    "from sklearn.model_selection import train_test_split"
   ]
  },
  {
   "cell_type": "markdown",
   "metadata": {},
   "source": [
    "## Loading and preparing the files"
   ]
  },
  {
   "cell_type": "markdown",
   "metadata": {},
   "source": [
    "I've found so far two ways of doing it, but one of them does not close the file, so I will put it as it is simpler, and really useful when it comes to understanding what we are doing, but also much less efficient, so I'll be using both:"
   ]
  },
  {
   "cell_type": "markdown",
   "metadata": {},
   "source": [
    "### First way (Easy one):"
   ]
  },
  {
   "cell_type": "code",
   "execution_count": null,
   "metadata": {},
   "outputs": [],
   "source": [
    "#Necessary encoding, otherwise it will not work\n",
    "train_file = open('../data/movie_data/full_train.txt', 'r', encoding = \"utf8\") \n",
    "test_file = open('../data/movie_data/full_test.txt', 'r', encoding = \"utf8\")"
   ]
  },
  {
   "cell_type": "markdown",
   "metadata": {},
   "source": [
    "### Transforming the files into readable ones"
   ]
  },
  {
   "cell_type": "markdown",
   "metadata": {},
   "source": [
    "The 'train_file' type is a '_io.TextIOWrapper' object, which can not be iterated as it has no index. However, you can do create a list of 'lines'"
   ]
  },
  {
   "cell_type": "code",
   "execution_count": null,
   "metadata": {},
   "outputs": [],
   "source": [
    "reviews_train = [review.strip() for review in train_file]\n",
    "reviews_test = [review.strip() for review in test_file]"
   ]
  },
  {
   "cell_type": "markdown",
   "metadata": {},
   "source": [
    "### Printing the list results"
   ]
  },
  {
   "cell_type": "markdown",
   "metadata": {},
   "source": [
    "Now we will be printing the first item of the new lists created \"reviews_train\" and \"reviews_test\". being each one a complete review, so the lists should have the total number of reviews:"
   ]
  },
  {
   "cell_type": "code",
   "execution_count": null,
   "metadata": {},
   "outputs": [],
   "source": [
    "print(f'TRAINING DATA: \\n\\n    First paragraph:\\n\\n{reviews_train[0]}\\\n",
    "                \\n\\n Number of training reviews: {len(reviews_train)}')\n",
    "print('\\n')\n",
    "print(f'TESTING DATA: \\n\\n    First paragraph:\\n\\n{reviews_test[0]}\\\n",
    "                \\n\\n Number oftesting reviews: {len(reviews_test)}')"
   ]
  },
  {
   "cell_type": "markdown",
   "metadata": {},
   "source": [
    "### Second way (Efficient one):"
   ]
  },
  {
   "cell_type": "markdown",
   "metadata": {},
   "source": [
    "So in this case, we will create the lists in the same cells by using the 'with' 'using statement', which will close the file after the action it is meant to perform"
   ]
  },
  {
   "cell_type": "code",
   "execution_count": 2,
   "metadata": {},
   "outputs": [],
   "source": [
    "with open('../data/movie_data/full_train.txt', 'r', encoding = \"utf8\") as train_file:\n",
    "    reviews_train = [review.strip() for review in train_file]\n",
    "    \n",
    "with open('../data/movie_data/full_test.txt', 'r', encoding = \"utf8\") as test_file:\n",
    "    reviews_test = [review.strip() for review in test_file]"
   ]
  },
  {
   "cell_type": "markdown",
   "metadata": {},
   "source": [
    "So we just need to print it:"
   ]
  },
  {
   "cell_type": "code",
   "execution_count": 3,
   "metadata": {},
   "outputs": [
    {
     "name": "stdout",
     "output_type": "stream",
     "text": [
      "TRAINING DATA: \n",
      "\n",
      "    First paragraph:\n",
      "\n",
      "Bromwell High is a cartoon comedy. It ran at the same time as some other programs about school life, such as \"Teachers\". My 35 years in the teaching profession lead me to believe that Bromwell High's satire is much closer to reality than is \"Teachers\". The scramble to survive financially, the insightful students who can see right through their pathetic teachers' pomp, the pettiness of the whole situation, all remind me of the schools I knew and their students. When I saw the episode in which a student repeatedly tried to burn down the school, I immediately recalled ......... at .......... High. A classic line: INSPECTOR: I'm here to sack one of your teachers. STUDENT: Welcome to Bromwell High. I expect that many adults of my age think that Bromwell High is far fetched. What a pity that it isn't!                \n",
      "\n",
      " Number of training reviews: 25000\n",
      "\n",
      "\n",
      "TESTING DATA: \n",
      "\n",
      "    First paragraph:\n",
      "\n",
      "I went and saw this movie last night after being coaxed to by a few friends of mine. I'll admit that I was reluctant to see it because from what I knew of Ashton Kutcher he was only able to do comedy. I was wrong. Kutcher played the character of Jake Fischer very well, and Kevin Costner played Ben Randall with such professionalism. The sign of a good movie is that it can toy with our emotions. This one did exactly that. The entire theater (which was sold out) was overcome by laughter during the first half of the movie, and were moved to tears during the second half. While exiting the theater I not only saw many women in tears, but many full grown men as well, trying desperately not to let anyone see them crying. This movie was great, and I suggest that you go see it before you judge.                \n",
      "\n",
      " Number oftesting reviews: 25000\n"
     ]
    }
   ],
   "source": [
    "print(f'TRAINING DATA: \\n\\n    First paragraph:\\n\\n{reviews_train[0]}\\\n",
    "                \\n\\n Number of training reviews: {len(reviews_train)}')\n",
    "print('\\n')\n",
    "print(f'TESTING DATA: \\n\\n    First paragraph:\\n\\n{reviews_test[0]}\\\n",
    "                \\n\\n Number oftesting reviews: {len(reviews_test)}')"
   ]
  },
  {
   "cell_type": "markdown",
   "metadata": {},
   "source": [
    "# Warning!!"
   ]
  },
  {
   "cell_type": "markdown",
   "metadata": {},
   "source": [
    "### *Run the first one only, and just only to understand how the code is working, once you have done it ignore it and run the second for better performance*"
   ]
  },
  {
   "cell_type": "markdown",
   "metadata": {},
   "source": [
    "## Data wrangling"
   ]
  },
  {
   "cell_type": "markdown",
   "metadata": {},
   "source": [
    "### Data cleaning:\n"
   ]
  },
  {
   "cell_type": "markdown",
   "metadata": {},
   "source": [
    "So now that we have the two lists with the reviews we want in each one, let's prepare them for the analysis:"
   ]
  },
  {
   "cell_type": "code",
   "execution_count": 4,
   "metadata": {},
   "outputs": [],
   "source": [
    "def cleaning(par):\n",
    "    \n",
    "    '''Function to remove punctuation\n",
    "    from the given paragraph and html \n",
    "    expressions that are not needed'''\n",
    "    \n",
    "    html = re.compile(\"(<br\\s*/><br\\s*/>)|(\\-)|(\\/)\")\n",
    "    \n",
    "    final = [s.translate(str.maketrans('', '', string.punctuation)).lower() for s in par]\n",
    "    final_par = [html.sub(\" \", line) for line in final]\n",
    "    return final"
   ]
  },
  {
   "cell_type": "markdown",
   "metadata": {},
   "source": [
    "Let's apply the function to the previous lists and change their names"
   ]
  },
  {
   "cell_type": "code",
   "execution_count": 5,
   "metadata": {},
   "outputs": [],
   "source": [
    "clean_review_train = cleaning(reviews_train)\n",
    "clean_review_test = cleaning(reviews_test)"
   ]
  },
  {
   "cell_type": "markdown",
   "metadata": {},
   "source": [
    "### Preparing the vectorized matrix"
   ]
  },
  {
   "cell_type": "markdown",
   "metadata": {},
   "source": [
    "Now that we have already cleaned the data, we will vectorize the data we have to fit it into the model we will create later"
   ]
  },
  {
   "cell_type": "code",
   "execution_count": 6,
   "metadata": {},
   "outputs": [],
   "source": [
    "TfidVect = TfidfVectorizer()\n",
    "tfv_review_train_matrix = TfidVect.fit_transform(clean_review_train)"
   ]
  },
  {
   "cell_type": "markdown",
   "metadata": {},
   "source": [
    "## Training the model"
   ]
  },
  {
   "cell_type": "markdown",
   "metadata": {},
   "source": [
    "So now that we have understood our model, we can start training the model. We will assign positive sentiment to the first half of the dataset and negative one to the second part (as the dataset is already prepared for that), so we will have 1's from 0 to 12500 and 0's from 12500 to 25000 and the variables for the split test"
   ]
  },
  {
   "cell_type": "code",
   "execution_count": 7,
   "metadata": {},
   "outputs": [],
   "source": [
    "target = [1 if i < 12500 else 0 for i in range(25000)]\n",
    "\n",
    "X_tr_train, X_tr_test, y_tr_train, y_tr_test = \\\n",
    "    train_test_split(tfv_review_train_matrix, target, train_size = 0.75)"
   ]
  },
  {
   "cell_type": "markdown",
   "metadata": {},
   "source": [
    "Now, to know which is the best inverse regularization value we will fit the model and loop the values until we got the value we want (evading overfitting at the same time) "
   ]
  },
  {
   "cell_type": "code",
   "execution_count": 8,
   "metadata": {},
   "outputs": [
    {
     "name": "stderr",
     "output_type": "stream",
     "text": [
      "C:\\Users\\34662\\Anaconda3\\envs\\Python\\lib\\site-packages\\sklearn\\linear_model\\logistic.py:432: FutureWarning: Default solver will be changed to 'lbfgs' in 0.22. Specify a solver to silence this warning.\n",
      "  FutureWarning)\n"
     ]
    },
    {
     "name": "stdout",
     "output_type": "stream",
     "text": [
      "Accuracy for C = 0.01: 0.79376\n",
      "Accuracy for C = 0.05: 0.82656\n",
      "Accuracy for C = 0.25: 0.86688\n",
      "Accuracy for C = 0.5: 0.87552\n",
      "Accuracy for C = 1: 0.88368\n"
     ]
    }
   ],
   "source": [
    "for c in [0.01, 0.05, 0.25, 0.5, 1]:\n",
    "    lr = LogisticRegression(C=c)\n",
    "    lr.fit(X_tr_train, y_tr_train)\n",
    "    score = accuracy_score(y_tr_test, lr.predict(X_tr_test))\n",
    "    print(f\"Accuracy for C = {c}: {score}\")"
   ]
  },
  {
   "cell_type": "markdown",
   "metadata": {},
   "source": [
    "And finally, let's try the model with the test dataset we have so we can see whether it is working or not"
   ]
  },
  {
   "cell_type": "code",
   "execution_count": 9,
   "metadata": {},
   "outputs": [
    {
     "name": "stdout",
     "output_type": "stream",
     "text": [
      "Accuracy of the model = 0.88336\n"
     ]
    }
   ],
   "source": [
    "tfv_review_test_matrix = TfidVect.transform(clean_review_test)\n",
    "final_model = LogisticRegression(C=1)\n",
    "final_model.fit(tfv_review_train_matrix, target)\n",
    "accuracy = accuracy_score(target, final_model.predict(tfv_review_test_matrix))\n",
    "print(f\"Accuracy of the model = {accuracy}\")"
   ]
  },
  {
   "cell_type": "markdown",
   "metadata": {},
   "source": [
    "So we can see here that we can put whatever phrase we want to try and the prediction will be applied"
   ]
  },
  {
   "cell_type": "code",
   "execution_count": 10,
   "metadata": {},
   "outputs": [
    {
     "data": {
      "text/plain": [
       "array([1, 0])"
      ]
     },
     "execution_count": 10,
     "metadata": {},
     "output_type": "execute_result"
    }
   ],
   "source": [
    "test_phrase = [\"pirate ships and go from that shelf.com another night here in Canton this has been an incredible day for someone to talk about it is Once Upon a Time in Hollywood now the title of Tarantino's latest come should give you a hint that this is not a straightforward story this is a fable this is one of his historical fantasy does it work where he's going to take the storyline that we know and twisted ever-so-slightly or in some ways a major ways this is a easy film to spoil so I'm not going to do that but what I will say is that this has some extraordinary moments and some incredible performances this film just incredible incredible power house and again who's playing Sharon Tate in the butt injection she just absolutely bring much more than a social reasons and television was eating into the holy thoughts and hope of the hippie generation and the sort of Darkness underneath that it's all of these things that I've only had a few hours\", \"what's up guys don't have to do this in a much more like formal environment where I would you know such a camera and mic myself and all that stuff but tonight just because I wanted to get it down and dirty done fast and give you guys the goods on Once Upon a Time in Hollywood I thought I would just hold the phone by and talk to you all and just post a review so I saw once upon a time in Hollywood is a non-spoiler review\"]\n",
    "trial = TfidVect.transform(test_phrase)\n",
    "lr.predict(trial)"
   ]
  }
 ],
 "metadata": {
  "kernelspec": {
   "display_name": "Python 3",
   "language": "python",
   "name": "python3"
  },
  "language_info": {
   "codemirror_mode": {
    "name": "ipython",
    "version": 3
   },
   "file_extension": ".py",
   "mimetype": "text/x-python",
   "name": "python",
   "nbconvert_exporter": "python",
   "pygments_lexer": "ipython3",
   "version": "3.7.4"
  }
 },
 "nbformat": 4,
 "nbformat_minor": 2
}
